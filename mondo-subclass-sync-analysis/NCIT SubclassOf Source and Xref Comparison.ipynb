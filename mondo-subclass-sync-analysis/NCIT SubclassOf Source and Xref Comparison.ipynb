{
 "cells": [
  {
   "cell_type": "markdown",
   "id": "61ee35cb",
   "metadata": {},
   "source": [
    "### Analysis of NCIT Subclass Source provenance after running Subclass Sync pipeline\n",
    "\n",
    "See repo `README.md` file for more information.\n",
    "\n",
    "#### Input Data Files\n",
    "- ncit_subclass_source_provenance.csv - contains all Mondo classes that have a SubclassOf source annotation with a value from NCIT _after_ the Subclass Sync is run. It was created by running the SPARQL query in `ncit_subclass_source.ru` against a version of `mondo-edit.obo` that contains changes from the Subclass Sync pipeline (it was copied from the files in [#8503](https://github.com/monarch-initiative/mondo/pull/8503)).\n",
    "</br></br>\n",
    "- ncit_neoplasm_child_terms.csv - contains all NCIT terms in the neoplasm branch. It was created by running the SPARQL query `ncit_neoplasm_children.ru` on the file `component-download-ncit.owl.owl` copied from the `main` branch in the mondo-ingest repo.\n",
    "</br></br>\n",
    "- mondo-edit_all_ncit_subclass_source_provenance.csv - contains all Mondo class that have a SubclassOf source annotation with a value from NCIT _before_ the updated Subclass Sync was run. The list of subclass sources extracted in this data file is not limited to only values from NCIT. The data file was created by running the SPARQL query `ncit_and_all_subclass_source_provenance.ru` on a version of `mondo-edit.obo` from the `master` branch from the mondo repo copied from 6Jan2025 and it before the updated Subclass Sync pipeline was run. The xrefList in this data file contains all xref values, not just those limited to NCIT."
   ]
  },
  {
   "cell_type": "code",
   "execution_count": 1,
   "id": "98a3c95f",
   "metadata": {},
   "outputs": [],
   "source": [
    "# imports\n",
    "import pandas as pd"
   ]
  },
  {
   "cell_type": "markdown",
   "id": "6a1c64db",
   "metadata": {},
   "source": [
    "---\n",
    "\n",
    "### Read file of Mondo classes that contain Subclass axioms with a source annotation from NCIT"
   ]
  },
  {
   "cell_type": "code",
   "execution_count": 2,
   "id": "16cedd52",
   "metadata": {},
   "outputs": [
    {
     "data": {
      "text/html": [
       "<div>\n",
       "<style scoped>\n",
       "    .dataframe tbody tr th:only-of-type {\n",
       "        vertical-align: middle;\n",
       "    }\n",
       "\n",
       "    .dataframe tbody tr th {\n",
       "        vertical-align: top;\n",
       "    }\n",
       "\n",
       "    .dataframe thead th {\n",
       "        text-align: right;\n",
       "    }\n",
       "</style>\n",
       "<table border=\"1\" class=\"dataframe\">\n",
       "  <thead>\n",
       "    <tr style=\"text-align: right;\">\n",
       "      <th></th>\n",
       "      <th>mondoIRI</th>\n",
       "      <th>mondoLabel</th>\n",
       "      <th>parentClass</th>\n",
       "      <th>source</th>\n",
       "      <th>xrefList</th>\n",
       "    </tr>\n",
       "  </thead>\n",
       "  <tbody>\n",
       "    <tr>\n",
       "      <th>0</th>\n",
       "      <td>MONDO:0000147</td>\n",
       "      <td>polyposis</td>\n",
       "      <td>http://purl.obolibrary.org/obo/MONDO_0021075</td>\n",
       "      <td>NCIT:C4089</td>\n",
       "      <td>NCIT:C4089</td>\n",
       "    </tr>\n",
       "    <tr>\n",
       "      <th>1</th>\n",
       "      <td>MONDO:0000337</td>\n",
       "      <td>exanthema subitum</td>\n",
       "      <td>_:b0</td>\n",
       "      <td>NCIT:C128420</td>\n",
       "      <td>NCIT:C128420</td>\n",
       "    </tr>\n",
       "    <tr>\n",
       "      <th>2</th>\n",
       "      <td>MONDO:0000371</td>\n",
       "      <td>oral cavity carcinoma in situ</td>\n",
       "      <td>http://purl.obolibrary.org/obo/MONDO_0044925</td>\n",
       "      <td>NCIT:C4587</td>\n",
       "      <td>NCIT:C4587</td>\n",
       "    </tr>\n",
       "    <tr>\n",
       "      <th>3</th>\n",
       "      <td>MONDO:0000372</td>\n",
       "      <td>pharynx carcinoma in situ</td>\n",
       "      <td>http://purl.obolibrary.org/obo/MONDO_0004647</td>\n",
       "      <td>NCIT:C4942</td>\n",
       "      <td>NCIT:C4942</td>\n",
       "    </tr>\n",
       "    <tr>\n",
       "      <th>4</th>\n",
       "      <td>MONDO:0000372</td>\n",
       "      <td>pharynx carcinoma in situ</td>\n",
       "      <td>http://purl.obolibrary.org/obo/MONDO_0021345</td>\n",
       "      <td>NCIT:C4942</td>\n",
       "      <td>NCIT:C4942</td>\n",
       "    </tr>\n",
       "  </tbody>\n",
       "</table>\n",
       "</div>"
      ],
      "text/plain": [
       "        mondoIRI                     mondoLabel  \\\n",
       "0  MONDO:0000147                      polyposis   \n",
       "1  MONDO:0000337              exanthema subitum   \n",
       "2  MONDO:0000371  oral cavity carcinoma in situ   \n",
       "3  MONDO:0000372      pharynx carcinoma in situ   \n",
       "4  MONDO:0000372      pharynx carcinoma in situ   \n",
       "\n",
       "                                    parentClass        source      xrefList  \n",
       "0  http://purl.obolibrary.org/obo/MONDO_0021075    NCIT:C4089    NCIT:C4089  \n",
       "1                                          _:b0  NCIT:C128420  NCIT:C128420  \n",
       "2  http://purl.obolibrary.org/obo/MONDO_0044925    NCIT:C4587    NCIT:C4587  \n",
       "3  http://purl.obolibrary.org/obo/MONDO_0004647    NCIT:C4942    NCIT:C4942  \n",
       "4  http://purl.obolibrary.org/obo/MONDO_0021345    NCIT:C4942    NCIT:C4942  "
      ]
     },
     "execution_count": 2,
     "metadata": {},
     "output_type": "execute_result"
    }
   ],
   "source": [
    "# Read in file. The file `ncit_subclass_source_provenance.csv` contains all Mondo classes that have a \n",
    "# SubclassOf source annotation with a value from NCIT _after_ the Subclass Sync is run.\n",
    "\n",
    "df = pd.read_csv('ncit_subclass_source_provenance.csv')\n",
    "df.head()"
   ]
  },
  {
   "cell_type": "markdown",
   "id": "9f6a7daf",
   "metadata": {},
   "source": [
    "### Confirm the NCIT subclassOf source annotation value also exists as an xref for the Mondo term"
   ]
  },
  {
   "cell_type": "code",
   "execution_count": 3,
   "id": "efa26088",
   "metadata": {},
   "outputs": [
    {
     "data": {
      "text/html": [
       "<div>\n",
       "<style scoped>\n",
       "    .dataframe tbody tr th:only-of-type {\n",
       "        vertical-align: middle;\n",
       "    }\n",
       "\n",
       "    .dataframe tbody tr th {\n",
       "        vertical-align: top;\n",
       "    }\n",
       "\n",
       "    .dataframe thead th {\n",
       "        text-align: right;\n",
       "    }\n",
       "</style>\n",
       "<table border=\"1\" class=\"dataframe\">\n",
       "  <thead>\n",
       "    <tr style=\"text-align: right;\">\n",
       "      <th></th>\n",
       "      <th>mondoIRI</th>\n",
       "      <th>mondoLabel</th>\n",
       "      <th>parentClass</th>\n",
       "      <th>source</th>\n",
       "      <th>xrefList</th>\n",
       "      <th>source_in_xrefList</th>\n",
       "    </tr>\n",
       "  </thead>\n",
       "  <tbody>\n",
       "    <tr>\n",
       "      <th>0</th>\n",
       "      <td>MONDO:0000147</td>\n",
       "      <td>polyposis</td>\n",
       "      <td>http://purl.obolibrary.org/obo/MONDO_0021075</td>\n",
       "      <td>NCIT:C4089</td>\n",
       "      <td>NCIT:C4089</td>\n",
       "      <td>True</td>\n",
       "    </tr>\n",
       "    <tr>\n",
       "      <th>1</th>\n",
       "      <td>MONDO:0000337</td>\n",
       "      <td>exanthema subitum</td>\n",
       "      <td>_:b0</td>\n",
       "      <td>NCIT:C128420</td>\n",
       "      <td>NCIT:C128420</td>\n",
       "      <td>True</td>\n",
       "    </tr>\n",
       "    <tr>\n",
       "      <th>2</th>\n",
       "      <td>MONDO:0000371</td>\n",
       "      <td>oral cavity carcinoma in situ</td>\n",
       "      <td>http://purl.obolibrary.org/obo/MONDO_0044925</td>\n",
       "      <td>NCIT:C4587</td>\n",
       "      <td>NCIT:C4587</td>\n",
       "      <td>True</td>\n",
       "    </tr>\n",
       "    <tr>\n",
       "      <th>3</th>\n",
       "      <td>MONDO:0000372</td>\n",
       "      <td>pharynx carcinoma in situ</td>\n",
       "      <td>http://purl.obolibrary.org/obo/MONDO_0004647</td>\n",
       "      <td>NCIT:C4942</td>\n",
       "      <td>NCIT:C4942</td>\n",
       "      <td>True</td>\n",
       "    </tr>\n",
       "    <tr>\n",
       "      <th>4</th>\n",
       "      <td>MONDO:0000372</td>\n",
       "      <td>pharynx carcinoma in situ</td>\n",
       "      <td>http://purl.obolibrary.org/obo/MONDO_0021345</td>\n",
       "      <td>NCIT:C4942</td>\n",
       "      <td>NCIT:C4942</td>\n",
       "      <td>True</td>\n",
       "    </tr>\n",
       "  </tbody>\n",
       "</table>\n",
       "</div>"
      ],
      "text/plain": [
       "        mondoIRI                     mondoLabel  \\\n",
       "0  MONDO:0000147                      polyposis   \n",
       "1  MONDO:0000337              exanthema subitum   \n",
       "2  MONDO:0000371  oral cavity carcinoma in situ   \n",
       "3  MONDO:0000372      pharynx carcinoma in situ   \n",
       "4  MONDO:0000372      pharynx carcinoma in situ   \n",
       "\n",
       "                                    parentClass        source      xrefList  \\\n",
       "0  http://purl.obolibrary.org/obo/MONDO_0021075    NCIT:C4089    NCIT:C4089   \n",
       "1                                          _:b0  NCIT:C128420  NCIT:C128420   \n",
       "2  http://purl.obolibrary.org/obo/MONDO_0044925    NCIT:C4587    NCIT:C4587   \n",
       "3  http://purl.obolibrary.org/obo/MONDO_0004647    NCIT:C4942    NCIT:C4942   \n",
       "4  http://purl.obolibrary.org/obo/MONDO_0021345    NCIT:C4942    NCIT:C4942   \n",
       "\n",
       "   source_in_xrefList  \n",
       "0                True  \n",
       "1                True  \n",
       "2                True  \n",
       "3                True  \n",
       "4                True  "
      ]
     },
     "execution_count": 3,
     "metadata": {},
     "output_type": "execute_result"
    }
   ],
   "source": [
    "# Check that the value for `source` is found within the `xrefList` of values. This is a \"sanity check\" since \n",
    "# any row with a subclassOf source annotation from NCIT should also have an xref to this same NCIT value.\n",
    "\n",
    "# Check if 'source' matches a value in the 'xref' column for each row\n",
    "df[\"source_in_xrefList\"] = df.apply(\n",
    "    lambda row: row[\"source\"] in row[\"xrefList\"].split(\", \"), axis=1\n",
    ")\n",
    "\n",
    "# Display the resulting DataFrame\n",
    "df.head()"
   ]
  },
  {
   "cell_type": "code",
   "execution_count": 4,
   "id": "5fa2f015",
   "metadata": {},
   "outputs": [
    {
     "data": {
      "text/plain": [
       "mondoIRI              2865\n",
       "mondoLabel            2865\n",
       "parentClass           1626\n",
       "source                2869\n",
       "xrefList              2863\n",
       "source_in_xrefList       2\n",
       "dtype: int64"
      ]
     },
     "execution_count": 4,
     "metadata": {},
     "output_type": "execute_result"
    }
   ],
   "source": [
    "df.nunique()"
   ]
  },
  {
   "cell_type": "code",
   "execution_count": 5,
   "id": "8c2be7d0",
   "metadata": {},
   "outputs": [
    {
     "name": "stdout",
     "output_type": "stream",
     "text": [
      "4108\n"
     ]
    }
   ],
   "source": [
    "print(len(df))"
   ]
  },
  {
   "cell_type": "code",
   "execution_count": 6,
   "id": "cec4ebb8",
   "metadata": {},
   "outputs": [
    {
     "data": {
      "text/html": [
       "<div>\n",
       "<style scoped>\n",
       "    .dataframe tbody tr th:only-of-type {\n",
       "        vertical-align: middle;\n",
       "    }\n",
       "\n",
       "    .dataframe tbody tr th {\n",
       "        vertical-align: top;\n",
       "    }\n",
       "\n",
       "    .dataframe thead th {\n",
       "        text-align: right;\n",
       "    }\n",
       "</style>\n",
       "<table border=\"1\" class=\"dataframe\">\n",
       "  <thead>\n",
       "    <tr style=\"text-align: right;\">\n",
       "      <th></th>\n",
       "      <th>mondoIRI</th>\n",
       "      <th>mondoLabel</th>\n",
       "      <th>parentClass</th>\n",
       "      <th>source</th>\n",
       "      <th>xrefList</th>\n",
       "      <th>source_in_xrefList</th>\n",
       "    </tr>\n",
       "  </thead>\n",
       "  <tbody>\n",
       "    <tr>\n",
       "      <th>124</th>\n",
       "      <td>MONDO:0001076</td>\n",
       "      <td>glucose intolerance</td>\n",
       "      <td>_:b2</td>\n",
       "      <td>NCIT:C34646-textdef</td>\n",
       "      <td>NCIT:C34646</td>\n",
       "      <td>False</td>\n",
       "    </tr>\n",
       "    <tr>\n",
       "      <th>827</th>\n",
       "      <td>MONDO:0002868</td>\n",
       "      <td>bile duct mucinous cystic neoplasm with an ass...</td>\n",
       "      <td>_:b22</td>\n",
       "      <td>NCIT:C4130-modified</td>\n",
       "      <td>NCIT:C4130</td>\n",
       "      <td>False</td>\n",
       "    </tr>\n",
       "    <tr>\n",
       "      <th>2414</th>\n",
       "      <td>MONDO:0005377</td>\n",
       "      <td>nephrotic syndrome</td>\n",
       "      <td>_:b55</td>\n",
       "      <td>NCIT:C34845-def</td>\n",
       "      <td>NCIT:C34845</td>\n",
       "      <td>False</td>\n",
       "    </tr>\n",
       "    <tr>\n",
       "      <th>2415</th>\n",
       "      <td>MONDO:0005377</td>\n",
       "      <td>nephrotic syndrome</td>\n",
       "      <td>_:b56</td>\n",
       "      <td>NCIT:C34845-def</td>\n",
       "      <td>NCIT:C34845</td>\n",
       "      <td>False</td>\n",
       "    </tr>\n",
       "    <tr>\n",
       "      <th>2416</th>\n",
       "      <td>MONDO:0005377</td>\n",
       "      <td>nephrotic syndrome</td>\n",
       "      <td>_:b57</td>\n",
       "      <td>NCIT:C34845-def</td>\n",
       "      <td>NCIT:C34845</td>\n",
       "      <td>False</td>\n",
       "    </tr>\n",
       "    <tr>\n",
       "      <th>2926</th>\n",
       "      <td>MONDO:0007566</td>\n",
       "      <td>multiple self-healing squamous epithelioma</td>\n",
       "      <td>_:b76</td>\n",
       "      <td>MONDO:NCIT</td>\n",
       "      <td>NCIT:C4461</td>\n",
       "      <td>False</td>\n",
       "    </tr>\n",
       "    <tr>\n",
       "      <th>2992</th>\n",
       "      <td>MONDO:0010726</td>\n",
       "      <td>Rett syndrome</td>\n",
       "      <td>_:b89</td>\n",
       "      <td>NCIT:C88412</td>\n",
       "      <td>NCIT:C75488</td>\n",
       "      <td>False</td>\n",
       "    </tr>\n",
       "    <tr>\n",
       "      <th>3441</th>\n",
       "      <td>MONDO:0021081</td>\n",
       "      <td>anti-NMDA receptor encephalitis</td>\n",
       "      <td>_:b118</td>\n",
       "      <td>MONDO:from-NCIT-text-def</td>\n",
       "      <td>NCIT:C94853</td>\n",
       "      <td>False</td>\n",
       "    </tr>\n",
       "  </tbody>\n",
       "</table>\n",
       "</div>"
      ],
      "text/plain": [
       "           mondoIRI                                         mondoLabel  \\\n",
       "124   MONDO:0001076                                glucose intolerance   \n",
       "827   MONDO:0002868  bile duct mucinous cystic neoplasm with an ass...   \n",
       "2414  MONDO:0005377                                 nephrotic syndrome   \n",
       "2415  MONDO:0005377                                 nephrotic syndrome   \n",
       "2416  MONDO:0005377                                 nephrotic syndrome   \n",
       "2926  MONDO:0007566         multiple self-healing squamous epithelioma   \n",
       "2992  MONDO:0010726                                      Rett syndrome   \n",
       "3441  MONDO:0021081                    anti-NMDA receptor encephalitis   \n",
       "\n",
       "     parentClass                    source     xrefList  source_in_xrefList  \n",
       "124         _:b2       NCIT:C34646-textdef  NCIT:C34646               False  \n",
       "827        _:b22       NCIT:C4130-modified   NCIT:C4130               False  \n",
       "2414       _:b55           NCIT:C34845-def  NCIT:C34845               False  \n",
       "2415       _:b56           NCIT:C34845-def  NCIT:C34845               False  \n",
       "2416       _:b57           NCIT:C34845-def  NCIT:C34845               False  \n",
       "2926       _:b76                MONDO:NCIT   NCIT:C4461               False  \n",
       "2992       _:b89               NCIT:C88412  NCIT:C75488               False  \n",
       "3441      _:b118  MONDO:from-NCIT-text-def  NCIT:C94853               False  "
      ]
     },
     "execution_count": 6,
     "metadata": {},
     "output_type": "execute_result"
    }
   ],
   "source": [
    "# Find all rows where `source_equals_xref` is False and therefore the NCIT source used as the provenance for \n",
    "# the subclassOf annotation is not found as an xref.\n",
    "\n",
    "# Filter rows where 'source' and 'xref' are not the same\n",
    "mismatch_rows = df[df[\"source_in_xrefList\"] == False]\n",
    "\n",
    "mismatch_rows.head(len(mismatch_rows))"
   ]
  },
  {
   "cell_type": "code",
   "execution_count": 7,
   "id": "a6eaec0f",
   "metadata": {},
   "outputs": [
    {
     "data": {
      "text/plain": [
       "mondoIRI              6\n",
       "mondoLabel            6\n",
       "parentClass           8\n",
       "source                6\n",
       "xrefList              6\n",
       "source_in_xrefList    1\n",
       "dtype: int64"
      ]
     },
     "execution_count": 7,
     "metadata": {},
     "output_type": "execute_result"
    }
   ],
   "source": [
    "mismatch_rows.nunique()"
   ]
  },
  {
   "cell_type": "markdown",
   "id": "7ff17462",
   "metadata": {},
   "source": [
    "---\n",
    "### Read file of NCIT neoplasm terms"
   ]
  },
  {
   "cell_type": "code",
   "execution_count": 8,
   "id": "e9413534",
   "metadata": {},
   "outputs": [
    {
     "data": {
      "text/html": [
       "<div>\n",
       "<style scoped>\n",
       "    .dataframe tbody tr th:only-of-type {\n",
       "        vertical-align: middle;\n",
       "    }\n",
       "\n",
       "    .dataframe tbody tr th {\n",
       "        vertical-align: top;\n",
       "    }\n",
       "\n",
       "    .dataframe thead th {\n",
       "        text-align: right;\n",
       "    }\n",
       "</style>\n",
       "<table border=\"1\" class=\"dataframe\">\n",
       "  <thead>\n",
       "    <tr style=\"text-align: right;\">\n",
       "      <th></th>\n",
       "      <th>subclassCURIE</th>\n",
       "    </tr>\n",
       "  </thead>\n",
       "  <tbody>\n",
       "    <tr>\n",
       "      <th>0</th>\n",
       "      <td>NCIT:C3263</td>\n",
       "    </tr>\n",
       "    <tr>\n",
       "      <th>1</th>\n",
       "      <td>NCIT:C3010</td>\n",
       "    </tr>\n",
       "    <tr>\n",
       "      <th>2</th>\n",
       "      <td>NCIT:C7335</td>\n",
       "    </tr>\n",
       "    <tr>\n",
       "      <th>3</th>\n",
       "      <td>NCIT:C3575</td>\n",
       "    </tr>\n",
       "    <tr>\n",
       "      <th>4</th>\n",
       "      <td>NCIT:C4536</td>\n",
       "    </tr>\n",
       "  </tbody>\n",
       "</table>\n",
       "</div>"
      ],
      "text/plain": [
       "  subclassCURIE\n",
       "0    NCIT:C3263\n",
       "1    NCIT:C3010\n",
       "2    NCIT:C7335\n",
       "3    NCIT:C3575\n",
       "4    NCIT:C4536"
      ]
     },
     "execution_count": 8,
     "metadata": {},
     "output_type": "execute_result"
    }
   ],
   "source": [
    "# Read in a list of all NCIT curies of terms in the neoplasm branch\n",
    "\n",
    "df_ncit = pd.read_csv(\"ncit_neoplasm_child_terms.csv\")\n",
    "\n",
    "df_ncit.head()"
   ]
  },
  {
   "cell_type": "code",
   "execution_count": 9,
   "id": "f96ff24b",
   "metadata": {},
   "outputs": [
    {
     "data": {
      "text/plain": [
       "subclassCURIE    13924\n",
       "dtype: int64"
      ]
     },
     "execution_count": 9,
     "metadata": {},
     "output_type": "execute_result"
    }
   ],
   "source": [
    "df_ncit.nunique()"
   ]
  },
  {
   "cell_type": "markdown",
   "id": "9acb3b71",
   "metadata": {},
   "source": [
    "### Confirm that all NCIT subclassOf source annotation values are found in the neoplasm branch"
   ]
  },
  {
   "cell_type": "code",
   "execution_count": 10,
   "id": "2b1195e5",
   "metadata": {},
   "outputs": [
    {
     "name": "stdout",
     "output_type": "stream",
     "text": [
      "All NCIT subclassOf source values present in df_ncit: False\n",
      "\n",
      "Sources not in df_ncit:\n"
     ]
    },
    {
     "data": {
      "text/plain": [
       "1       NCIT:C128420\n",
       "152      NCIT:C27597\n",
       "153      NCIT:C27597\n",
       "509      NCIT:C27166\n",
       "759      NCIT:C27335\n",
       "            ...     \n",
       "4101    NCIT:C134557\n",
       "4102    NCIT:C134558\n",
       "4103    NCIT:C134945\n",
       "4104    NCIT:C135004\n",
       "4107     NCIT:C61283\n",
       "Name: source, Length: 66, dtype: object"
      ]
     },
     "execution_count": 10,
     "metadata": {},
     "output_type": "execute_result"
    }
   ],
   "source": [
    "# Check that all values in `df` in the source column where source_in_xrefList is True are found in df_ncit\n",
    "\n",
    "# Get all `source` values where `source_in_xrefList` is True\n",
    "sources_to_check = df[df[\"source_in_xrefList\"] == True][\"source\"]\n",
    "\n",
    "# Check if all `source` values are in df_ncit['subclassCURIE']\n",
    "all_present = sources_to_check.isin(df_ncit[\"subclassCURIE\"]).all()\n",
    "\n",
    "# Output result\n",
    "print(\"All NCIT subclassOf source values present in df_ncit:\", all_present)\n",
    "\n",
    "# If you want to see which sources are not in `df_ncit`\n",
    "missing_sources = sources_to_check[~sources_to_check.isin(df_ncit[\"subclassCURIE\"])]\n",
    "print(\"\\nSources not in df_ncit:\")\n",
    "\n",
    "\n",
    "# I spot checked a few of these NCIT values and they do still exist in NCIT.\n",
    "missing_sources.head(len(missing_sources))"
   ]
  },
  {
   "cell_type": "code",
   "execution_count": 11,
   "id": "78dcb6f4",
   "metadata": {},
   "outputs": [
    {
     "data": {
      "text/plain": [
       "57"
      ]
     },
     "execution_count": 11,
     "metadata": {},
     "output_type": "execute_result"
    }
   ],
   "source": [
    "missing_sources.nunique()"
   ]
  },
  {
   "cell_type": "markdown",
   "id": "f0f59623",
   "metadata": {},
   "source": [
    "---\n",
    "\n",
    "### Check number of Mondo classes with NCIT subclass source provenance _before_ running Subclass Sync"
   ]
  },
  {
   "cell_type": "code",
   "execution_count": 12,
   "id": "2462774c",
   "metadata": {},
   "outputs": [
    {
     "data": {
      "text/html": [
       "<div>\n",
       "<style scoped>\n",
       "    .dataframe tbody tr th:only-of-type {\n",
       "        vertical-align: middle;\n",
       "    }\n",
       "\n",
       "    .dataframe tbody tr th {\n",
       "        vertical-align: top;\n",
       "    }\n",
       "\n",
       "    .dataframe thead th {\n",
       "        text-align: right;\n",
       "    }\n",
       "</style>\n",
       "<table border=\"1\" class=\"dataframe\">\n",
       "  <thead>\n",
       "    <tr style=\"text-align: right;\">\n",
       "      <th></th>\n",
       "      <th>mondoIRI</th>\n",
       "      <th>mondoLabel</th>\n",
       "      <th>parentClass</th>\n",
       "      <th>ncitSource</th>\n",
       "      <th>allSourceList</th>\n",
       "      <th>xrefList</th>\n",
       "    </tr>\n",
       "  </thead>\n",
       "  <tbody>\n",
       "    <tr>\n",
       "      <th>0</th>\n",
       "      <td>MONDO:0000022</td>\n",
       "      <td>nocturnal enuresis</td>\n",
       "      <td>http://purl.obolibrary.org/obo/MONDO_0024290</td>\n",
       "      <td>NCIT:C118172</td>\n",
       "      <td>icd11.foundation:1048673005, NCIT:C118172</td>\n",
       "      <td>NCIT:C118172</td>\n",
       "    </tr>\n",
       "    <tr>\n",
       "      <th>1</th>\n",
       "      <td>MONDO:0000087</td>\n",
       "      <td>polymicrogyria</td>\n",
       "      <td>http://purl.obolibrary.org/obo/MONDO_0002320</td>\n",
       "      <td>NCIT:C116936</td>\n",
       "      <td>NCIT:C116936</td>\n",
       "      <td>NCIT:C116936</td>\n",
       "    </tr>\n",
       "    <tr>\n",
       "      <th>2</th>\n",
       "      <td>MONDO:0000128</td>\n",
       "      <td>giant axonal neuropathy</td>\n",
       "      <td>http://purl.obolibrary.org/obo/MONDO_0005244</td>\n",
       "      <td>NCIT:C84728</td>\n",
       "      <td>NCIT:C84728, MONDO:Redundant, MONDO:0000128/in...</td>\n",
       "      <td>NCIT:C84728</td>\n",
       "    </tr>\n",
       "    <tr>\n",
       "      <th>3</th>\n",
       "      <td>MONDO:0000141</td>\n",
       "      <td>mosaic variegated aneuploidy syndrome</td>\n",
       "      <td>http://purl.obolibrary.org/obo/MONDO_0021058</td>\n",
       "      <td>NCIT:C128192</td>\n",
       "      <td>NCIT:C128192, MONDO:Redundant</td>\n",
       "      <td>NCIT:C128192</td>\n",
       "    </tr>\n",
       "    <tr>\n",
       "      <th>4</th>\n",
       "      <td>MONDO:0000147</td>\n",
       "      <td>polyposis</td>\n",
       "      <td>http://purl.obolibrary.org/obo/MONDO_0021075</td>\n",
       "      <td>NCIT:C4089</td>\n",
       "      <td>NCIT:C4089</td>\n",
       "      <td>NCIT:C4089</td>\n",
       "    </tr>\n",
       "  </tbody>\n",
       "</table>\n",
       "</div>"
      ],
      "text/plain": [
       "        mondoIRI                             mondoLabel  \\\n",
       "0  MONDO:0000022                     nocturnal enuresis   \n",
       "1  MONDO:0000087                         polymicrogyria   \n",
       "2  MONDO:0000128                giant axonal neuropathy   \n",
       "3  MONDO:0000141  mosaic variegated aneuploidy syndrome   \n",
       "4  MONDO:0000147                              polyposis   \n",
       "\n",
       "                                    parentClass    ncitSource  \\\n",
       "0  http://purl.obolibrary.org/obo/MONDO_0024290  NCIT:C118172   \n",
       "1  http://purl.obolibrary.org/obo/MONDO_0002320  NCIT:C116936   \n",
       "2  http://purl.obolibrary.org/obo/MONDO_0005244   NCIT:C84728   \n",
       "3  http://purl.obolibrary.org/obo/MONDO_0021058  NCIT:C128192   \n",
       "4  http://purl.obolibrary.org/obo/MONDO_0021075    NCIT:C4089   \n",
       "\n",
       "                                       allSourceList      xrefList  \n",
       "0          icd11.foundation:1048673005, NCIT:C118172  NCIT:C118172  \n",
       "1                                       NCIT:C116936  NCIT:C116936  \n",
       "2  NCIT:C84728, MONDO:Redundant, MONDO:0000128/in...   NCIT:C84728  \n",
       "3                      NCIT:C128192, MONDO:Redundant  NCIT:C128192  \n",
       "4                                         NCIT:C4089    NCIT:C4089  "
      ]
     },
     "execution_count": 12,
     "metadata": {},
     "output_type": "execute_result"
    }
   ],
   "source": [
    "df_all = pd.read_csv('mondo-edit_all_ncit_subclass_source_provenance.csv')\n",
    "\n",
    "df_all.head()"
   ]
  },
  {
   "cell_type": "code",
   "execution_count": 13,
   "id": "05e3b4fd",
   "metadata": {},
   "outputs": [
    {
     "data": {
      "text/plain": [
       "mondoIRI         5831\n",
       "mondoLabel       5831\n",
       "parentClass      2339\n",
       "ncitSource       6793\n",
       "allSourceList    8190\n",
       "xrefList         5811\n",
       "dtype: int64"
      ]
     },
     "execution_count": 13,
     "metadata": {},
     "output_type": "execute_result"
    }
   ],
   "source": [
    "df_all.nunique()"
   ]
  },
  {
   "cell_type": "code",
   "execution_count": 14,
   "id": "d69b8a6a",
   "metadata": {},
   "outputs": [
    {
     "name": "stdout",
     "output_type": "stream",
     "text": [
      "8954\n"
     ]
    }
   ],
   "source": [
    "print(len(df_all))"
   ]
  },
  {
   "cell_type": "code",
   "execution_count": 15,
   "id": "639a90fc",
   "metadata": {},
   "outputs": [
    {
     "data": {
      "text/html": [
       "<div>\n",
       "<style scoped>\n",
       "    .dataframe tbody tr th:only-of-type {\n",
       "        vertical-align: middle;\n",
       "    }\n",
       "\n",
       "    .dataframe tbody tr th {\n",
       "        vertical-align: top;\n",
       "    }\n",
       "\n",
       "    .dataframe thead th {\n",
       "        text-align: right;\n",
       "    }\n",
       "</style>\n",
       "<table border=\"1\" class=\"dataframe\">\n",
       "  <thead>\n",
       "    <tr style=\"text-align: right;\">\n",
       "      <th></th>\n",
       "      <th>mondoIRI</th>\n",
       "      <th>mondoLabel</th>\n",
       "      <th>parentClass</th>\n",
       "      <th>ncitSource</th>\n",
       "      <th>allSourceList</th>\n",
       "      <th>xrefList_x</th>\n",
       "      <th>source</th>\n",
       "      <th>xrefList_y</th>\n",
       "      <th>source_in_xrefList</th>\n",
       "    </tr>\n",
       "  </thead>\n",
       "  <tbody>\n",
       "    <tr>\n",
       "      <th>0</th>\n",
       "      <td>MONDO:0000022</td>\n",
       "      <td>nocturnal enuresis</td>\n",
       "      <td>http://purl.obolibrary.org/obo/MONDO_0024290</td>\n",
       "      <td>NCIT:C118172</td>\n",
       "      <td>icd11.foundation:1048673005, NCIT:C118172</td>\n",
       "      <td>NCIT:C118172</td>\n",
       "      <td>NaN</td>\n",
       "      <td>NaN</td>\n",
       "      <td>NaN</td>\n",
       "    </tr>\n",
       "    <tr>\n",
       "      <th>1</th>\n",
       "      <td>MONDO:0000087</td>\n",
       "      <td>polymicrogyria</td>\n",
       "      <td>http://purl.obolibrary.org/obo/MONDO_0002320</td>\n",
       "      <td>NCIT:C116936</td>\n",
       "      <td>NCIT:C116936</td>\n",
       "      <td>NCIT:C116936</td>\n",
       "      <td>NaN</td>\n",
       "      <td>NaN</td>\n",
       "      <td>NaN</td>\n",
       "    </tr>\n",
       "    <tr>\n",
       "      <th>2</th>\n",
       "      <td>MONDO:0000128</td>\n",
       "      <td>giant axonal neuropathy</td>\n",
       "      <td>http://purl.obolibrary.org/obo/MONDO_0005244</td>\n",
       "      <td>NCIT:C84728</td>\n",
       "      <td>NCIT:C84728, MONDO:Redundant, MONDO:0000128/in...</td>\n",
       "      <td>NCIT:C84728</td>\n",
       "      <td>NaN</td>\n",
       "      <td>NaN</td>\n",
       "      <td>NaN</td>\n",
       "    </tr>\n",
       "    <tr>\n",
       "      <th>3</th>\n",
       "      <td>MONDO:0000141</td>\n",
       "      <td>mosaic variegated aneuploidy syndrome</td>\n",
       "      <td>http://purl.obolibrary.org/obo/MONDO_0021058</td>\n",
       "      <td>NCIT:C128192</td>\n",
       "      <td>NCIT:C128192, MONDO:Redundant</td>\n",
       "      <td>NCIT:C128192</td>\n",
       "      <td>NaN</td>\n",
       "      <td>NaN</td>\n",
       "      <td>NaN</td>\n",
       "    </tr>\n",
       "    <tr>\n",
       "      <th>5</th>\n",
       "      <td>MONDO:0000190</td>\n",
       "      <td>ventricular fibrillation</td>\n",
       "      <td>http://purl.obolibrary.org/obo/MONDO_0007263</td>\n",
       "      <td>NCIT:C50799</td>\n",
       "      <td>NCIT:C50799, EFO:0004287</td>\n",
       "      <td>NCIT:C50799</td>\n",
       "      <td>NaN</td>\n",
       "      <td>NaN</td>\n",
       "      <td>NaN</td>\n",
       "    </tr>\n",
       "  </tbody>\n",
       "</table>\n",
       "</div>"
      ],
      "text/plain": [
       "        mondoIRI                             mondoLabel  \\\n",
       "0  MONDO:0000022                     nocturnal enuresis   \n",
       "1  MONDO:0000087                         polymicrogyria   \n",
       "2  MONDO:0000128                giant axonal neuropathy   \n",
       "3  MONDO:0000141  mosaic variegated aneuploidy syndrome   \n",
       "5  MONDO:0000190               ventricular fibrillation   \n",
       "\n",
       "                                    parentClass    ncitSource  \\\n",
       "0  http://purl.obolibrary.org/obo/MONDO_0024290  NCIT:C118172   \n",
       "1  http://purl.obolibrary.org/obo/MONDO_0002320  NCIT:C116936   \n",
       "2  http://purl.obolibrary.org/obo/MONDO_0005244   NCIT:C84728   \n",
       "3  http://purl.obolibrary.org/obo/MONDO_0021058  NCIT:C128192   \n",
       "5  http://purl.obolibrary.org/obo/MONDO_0007263   NCIT:C50799   \n",
       "\n",
       "                                       allSourceList    xrefList_x source  \\\n",
       "0          icd11.foundation:1048673005, NCIT:C118172  NCIT:C118172    NaN   \n",
       "1                                       NCIT:C116936  NCIT:C116936    NaN   \n",
       "2  NCIT:C84728, MONDO:Redundant, MONDO:0000128/in...   NCIT:C84728    NaN   \n",
       "3                      NCIT:C128192, MONDO:Redundant  NCIT:C128192    NaN   \n",
       "5                           NCIT:C50799, EFO:0004287   NCIT:C50799    NaN   \n",
       "\n",
       "  xrefList_y source_in_xrefList  \n",
       "0        NaN                NaN  \n",
       "1        NaN                NaN  \n",
       "2        NaN                NaN  \n",
       "3        NaN                NaN  \n",
       "5        NaN                NaN  "
      ]
     },
     "execution_count": 15,
     "metadata": {},
     "output_type": "execute_result"
    }
   ],
   "source": [
    "# Find which Mondo classes are in df_all but not in df (mondo subclass with NCIT source \n",
    "# provenance _after_ running Subclass Sync). This is to find how many Subclass source annotations would be lost\n",
    "# given the current way the Subclass Sync information is added.\n",
    "\n",
    "# Find rows in df_all that are not in df\n",
    "diff_df = df_all.merge(df, on=[\"mondoIRI\", \"mondoLabel\", \"parentClass\"], how=\"left\",indicator=True)\n",
    "rows_in_df_all_not_in_df = diff_df[diff_df[\"_merge\"] == \"left_only\"].drop(columns=[\"_merge\"])\n",
    "\n",
    "rows_in_df_all_not_in_df.head()"
   ]
  },
  {
   "cell_type": "code",
   "execution_count": 16,
   "id": "5dc70240",
   "metadata": {},
   "outputs": [
    {
     "data": {
      "text/plain": [
       "mondoIRI              3985\n",
       "mondoLabel            3985\n",
       "parentClass           1303\n",
       "ncitSource            4304\n",
       "allSourceList         4598\n",
       "xrefList_x            3968\n",
       "source                   0\n",
       "xrefList_y               0\n",
       "source_in_xrefList       0\n",
       "dtype: int64"
      ]
     },
     "execution_count": 16,
     "metadata": {},
     "output_type": "execute_result"
    }
   ],
   "source": [
    "rows_in_df_all_not_in_df.nunique()"
   ]
  },
  {
   "cell_type": "code",
   "execution_count": 17,
   "id": "0c78e032",
   "metadata": {},
   "outputs": [
    {
     "name": "stdout",
     "output_type": "stream",
     "text": [
      "4811\n"
     ]
    }
   ],
   "source": [
    "print(len(rows_in_df_all_not_in_df))"
   ]
  },
  {
   "cell_type": "code",
   "execution_count": 18,
   "id": "8d41c6fd",
   "metadata": {},
   "outputs": [
    {
     "data": {
      "text/plain": [
       "mondoIRI              object\n",
       "mondoLabel            object\n",
       "parentClass           object\n",
       "ncitSource            object\n",
       "allSourceList         object\n",
       "xrefList_x            object\n",
       "source                object\n",
       "xrefList_y            object\n",
       "source_in_xrefList    object\n",
       "dtype: object"
      ]
     },
     "execution_count": 18,
     "metadata": {},
     "output_type": "execute_result"
    }
   ],
   "source": [
    "rows_in_df_all_not_in_df.dtypes"
   ]
  },
  {
   "cell_type": "code",
   "execution_count": 19,
   "id": "a546e0f3",
   "metadata": {},
   "outputs": [
    {
     "data": {
      "text/html": [
       "<div>\n",
       "<style scoped>\n",
       "    .dataframe tbody tr th:only-of-type {\n",
       "        vertical-align: middle;\n",
       "    }\n",
       "\n",
       "    .dataframe tbody tr th {\n",
       "        vertical-align: top;\n",
       "    }\n",
       "\n",
       "    .dataframe thead th {\n",
       "        text-align: right;\n",
       "    }\n",
       "</style>\n",
       "<table border=\"1\" class=\"dataframe\">\n",
       "  <thead>\n",
       "    <tr style=\"text-align: right;\">\n",
       "      <th></th>\n",
       "      <th>mondoIRI</th>\n",
       "      <th>mondoLabel</th>\n",
       "      <th>parentClass</th>\n",
       "      <th>ncitSource</th>\n",
       "      <th>allSourceList</th>\n",
       "      <th>xrefList_x</th>\n",
       "      <th>source</th>\n",
       "      <th>xrefList_y</th>\n",
       "      <th>source_in_xrefList</th>\n",
       "    </tr>\n",
       "  </thead>\n",
       "  <tbody>\n",
       "    <tr>\n",
       "      <th>1</th>\n",
       "      <td>MONDO:0000087</td>\n",
       "      <td>polymicrogyria</td>\n",
       "      <td>http://purl.obolibrary.org/obo/MONDO_0002320</td>\n",
       "      <td>NCIT:C116936</td>\n",
       "      <td>NCIT:C116936</td>\n",
       "      <td>NCIT:C116936</td>\n",
       "      <td>NaN</td>\n",
       "      <td>NaN</td>\n",
       "      <td>NaN</td>\n",
       "    </tr>\n",
       "    <tr>\n",
       "      <th>8</th>\n",
       "      <td>MONDO:0000334</td>\n",
       "      <td>multinodular goiter</td>\n",
       "      <td>http://purl.obolibrary.org/obo/MONDO_0006869</td>\n",
       "      <td>NCIT:C131438</td>\n",
       "      <td>NCIT:C131438</td>\n",
       "      <td>NCIT:C131438</td>\n",
       "      <td>NaN</td>\n",
       "      <td>NaN</td>\n",
       "      <td>NaN</td>\n",
       "    </tr>\n",
       "    <tr>\n",
       "      <th>35</th>\n",
       "      <td>MONDO:0000390</td>\n",
       "      <td>vitelliform macular dystrophy</td>\n",
       "      <td>http://purl.obolibrary.org/obo/MONDO_0020242</td>\n",
       "      <td>NCIT:C118788</td>\n",
       "      <td>NCIT:C118788</td>\n",
       "      <td>NCIT:C118788</td>\n",
       "      <td>NaN</td>\n",
       "      <td>NaN</td>\n",
       "      <td>NaN</td>\n",
       "    </tr>\n",
       "    <tr>\n",
       "      <th>42</th>\n",
       "      <td>MONDO:0000410</td>\n",
       "      <td>funisitis</td>\n",
       "      <td>http://purl.obolibrary.org/obo/MONDO_0024575</td>\n",
       "      <td>NCIT:C97077</td>\n",
       "      <td>NCIT:C97077</td>\n",
       "      <td>NCIT:C97077</td>\n",
       "      <td>NaN</td>\n",
       "      <td>NaN</td>\n",
       "      <td>NaN</td>\n",
       "    </tr>\n",
       "    <tr>\n",
       "      <th>63</th>\n",
       "      <td>MONDO:0000502</td>\n",
       "      <td>villous adenoma</td>\n",
       "      <td>http://purl.obolibrary.org/obo/MONDO_0024276</td>\n",
       "      <td>NCIT:C7399</td>\n",
       "      <td>NCIT:C7399</td>\n",
       "      <td>NCIT:C7399</td>\n",
       "      <td>NaN</td>\n",
       "      <td>NaN</td>\n",
       "      <td>NaN</td>\n",
       "    </tr>\n",
       "  </tbody>\n",
       "</table>\n",
       "</div>"
      ],
      "text/plain": [
       "         mondoIRI                     mondoLabel  \\\n",
       "1   MONDO:0000087                 polymicrogyria   \n",
       "8   MONDO:0000334            multinodular goiter   \n",
       "35  MONDO:0000390  vitelliform macular dystrophy   \n",
       "42  MONDO:0000410                      funisitis   \n",
       "63  MONDO:0000502                villous adenoma   \n",
       "\n",
       "                                     parentClass    ncitSource allSourceList  \\\n",
       "1   http://purl.obolibrary.org/obo/MONDO_0002320  NCIT:C116936  NCIT:C116936   \n",
       "8   http://purl.obolibrary.org/obo/MONDO_0006869  NCIT:C131438  NCIT:C131438   \n",
       "35  http://purl.obolibrary.org/obo/MONDO_0020242  NCIT:C118788  NCIT:C118788   \n",
       "42  http://purl.obolibrary.org/obo/MONDO_0024575   NCIT:C97077   NCIT:C97077   \n",
       "63  http://purl.obolibrary.org/obo/MONDO_0024276    NCIT:C7399    NCIT:C7399   \n",
       "\n",
       "      xrefList_x source xrefList_y source_in_xrefList  \n",
       "1   NCIT:C116936    NaN        NaN                NaN  \n",
       "8   NCIT:C131438    NaN        NaN                NaN  \n",
       "35  NCIT:C118788    NaN        NaN                NaN  \n",
       "42   NCIT:C97077    NaN        NaN                NaN  \n",
       "63    NCIT:C7399    NaN        NaN                NaN  "
      ]
     },
     "execution_count": 19,
     "metadata": {},
     "output_type": "execute_result"
    }
   ],
   "source": [
    "# Find any rows in rows_in_df_all_not_in_df where allSourceList contains only 1 source value and the value\n",
    "# is from from NCIT. These are rows where all subclassOf source provenance will be lost with the current \n",
    "# Subclass Sync process.\n",
    "\n",
    "# Convert `allSourceList` to string\n",
    "rows_in_df_all_not_in_df[\"allSourceList\"] = rows_in_df_all_not_in_df[\"allSourceList\"].astype(str)\n",
    "\n",
    "# Filter rows where there is only 1 value and it contains \"NCIT:\"\n",
    "filtered_rows = rows_in_df_all_not_in_df[\n",
    "    rows_in_df_all_not_in_df[\"allSourceList\"].apply(\n",
    "        lambda x: len(x.split(\", \")) == 1 and \"NCIT:\" in x\n",
    "    )\n",
    "]\n",
    "\n",
    "filtered_rows.head()"
   ]
  },
  {
   "cell_type": "code",
   "execution_count": 20,
   "id": "41a62adc",
   "metadata": {},
   "outputs": [
    {
     "data": {
      "text/plain": [
       "mondoIRI              789\n",
       "mondoLabel            789\n",
       "parentClass           382\n",
       "ncitSource            788\n",
       "allSourceList         788\n",
       "xrefList_x            783\n",
       "source                  0\n",
       "xrefList_y              0\n",
       "source_in_xrefList      0\n",
       "dtype: int64"
      ]
     },
     "execution_count": 20,
     "metadata": {},
     "output_type": "execute_result"
    }
   ],
   "source": [
    "filtered_rows.nunique()"
   ]
  },
  {
   "cell_type": "code",
   "execution_count": 21,
   "id": "bafc1342",
   "metadata": {},
   "outputs": [
    {
     "name": "stdout",
     "output_type": "stream",
     "text": [
      "818\n"
     ]
    }
   ],
   "source": [
    "print(len(filtered_rows))"
   ]
  },
  {
   "cell_type": "code",
   "execution_count": 22,
   "id": "4fc507fc",
   "metadata": {},
   "outputs": [
    {
     "data": {
      "text/html": [
       "<div>\n",
       "<style scoped>\n",
       "    .dataframe tbody tr th:only-of-type {\n",
       "        vertical-align: middle;\n",
       "    }\n",
       "\n",
       "    .dataframe tbody tr th {\n",
       "        vertical-align: top;\n",
       "    }\n",
       "\n",
       "    .dataframe thead th {\n",
       "        text-align: right;\n",
       "    }\n",
       "</style>\n",
       "<table border=\"1\" class=\"dataframe\">\n",
       "  <thead>\n",
       "    <tr style=\"text-align: right;\">\n",
       "      <th></th>\n",
       "      <th>mondoIRI</th>\n",
       "      <th>mondoLabel</th>\n",
       "      <th>parentClass</th>\n",
       "      <th>ncitSource</th>\n",
       "    </tr>\n",
       "  </thead>\n",
       "  <tbody>\n",
       "    <tr>\n",
       "      <th>0</th>\n",
       "      <td>ID</td>\n",
       "      <td></td>\n",
       "      <td>SC %</td>\n",
       "      <td>&gt;A oboInOwl:source</td>\n",
       "    </tr>\n",
       "    <tr>\n",
       "      <th>1</th>\n",
       "      <td>MONDO:0000087</td>\n",
       "      <td>polymicrogyria</td>\n",
       "      <td>MONDO:0002320</td>\n",
       "      <td>NCIT:C116936</td>\n",
       "    </tr>\n",
       "    <tr>\n",
       "      <th>2</th>\n",
       "      <td>MONDO:0000334</td>\n",
       "      <td>multinodular goiter</td>\n",
       "      <td>MONDO:0006869</td>\n",
       "      <td>NCIT:C131438</td>\n",
       "    </tr>\n",
       "    <tr>\n",
       "      <th>3</th>\n",
       "      <td>MONDO:0000390</td>\n",
       "      <td>vitelliform macular dystrophy</td>\n",
       "      <td>MONDO:0020242</td>\n",
       "      <td>NCIT:C118788</td>\n",
       "    </tr>\n",
       "    <tr>\n",
       "      <th>4</th>\n",
       "      <td>MONDO:0000410</td>\n",
       "      <td>funisitis</td>\n",
       "      <td>MONDO:0024575</td>\n",
       "      <td>NCIT:C97077</td>\n",
       "    </tr>\n",
       "  </tbody>\n",
       "</table>\n",
       "</div>"
      ],
      "text/plain": [
       "        mondoIRI                     mondoLabel    parentClass  \\\n",
       "0             ID                                          SC %   \n",
       "1  MONDO:0000087                 polymicrogyria  MONDO:0002320   \n",
       "2  MONDO:0000334            multinodular goiter  MONDO:0006869   \n",
       "3  MONDO:0000390  vitelliform macular dystrophy  MONDO:0020242   \n",
       "4  MONDO:0000410                      funisitis  MONDO:0024575   \n",
       "\n",
       "           ncitSource  \n",
       "0  >A oboInOwl:source  \n",
       "1        NCIT:C116936  \n",
       "2        NCIT:C131438  \n",
       "3        NCIT:C118788  \n",
       "4         NCIT:C97077  "
      ]
     },
     "execution_count": 22,
     "metadata": {},
     "output_type": "execute_result"
    }
   ],
   "source": [
    "# Prepare dataframe as ROBOT template\n",
    "\n",
    "# Remove columns that are not needed\n",
    "ncit_subclass_provenance_df = filtered_rows[[\"mondoIRI\", \"mondoLabel\", \"parentClass\", \"ncitSource\"]].copy()\n",
    "\n",
    "# Convert the IRIs in \"parentClass\" to CURIEs\n",
    "ncit_subclass_provenance_df['parentClass'] = ncit_subclass_provenance_df['parentClass'].str.replace(\n",
    "    r'http://purl.obolibrary.org/obo/MONDO_', 'MONDO:', regex=True\n",
    ")\n",
    "\n",
    "# # Define new headers\n",
    "# new_headers = [\"subject_mondo_id\", \"subject_mondo_label\", \"object_mondo_id\", \"object_mondo_id\"]\n",
    "\n",
    "# # Replace the column names of the data with new headers\n",
    "# ncit_subclass_provenance_df.columns = new_headers\n",
    "\n",
    "# # Add an additional header row\n",
    "# extra_header_row = [[\"ID\", \"\", \"SC %\", \">A oboInOwl:source\"]]\n",
    "# extra_header_df = pd.DataFrame(extra_header_row, columns=new_headers)\n",
    "\n",
    "# # Concatenate the additional header row and the data\n",
    "# ncit_subclass_provenance_robot_df = pd.concat([extra_header_df, ncit_subclass_provenance_df], ignore_index=True)\n",
    "\n",
    "\n",
    "# Add an additional header row\n",
    "extra_header_row = [[\"ID\", \"\", \"SC %\", \">A oboInOwl:source\"]]\n",
    "extra_header_df = pd.DataFrame(extra_header_row, columns=ncit_subclass_provenance_df.columns)\n",
    "\n",
    "# Concatenate the additional header row and the data\n",
    "ncit_subclass_provenance_robot_df = pd.concat([extra_header_df, ncit_subclass_provenance_df], ignore_index=True)\n",
    "\n",
    "\n",
    "\n",
    "ncit_subclass_provenance_robot_df.head()"
   ]
  },
  {
   "cell_type": "code",
   "execution_count": 23,
   "id": "c5ba3c44",
   "metadata": {},
   "outputs": [
    {
     "data": {
      "text/html": [
       "<div>\n",
       "<style scoped>\n",
       "    .dataframe tbody tr th:only-of-type {\n",
       "        vertical-align: middle;\n",
       "    }\n",
       "\n",
       "    .dataframe tbody tr th {\n",
       "        vertical-align: top;\n",
       "    }\n",
       "\n",
       "    .dataframe thead th {\n",
       "        text-align: right;\n",
       "    }\n",
       "</style>\n",
       "<table border=\"1\" class=\"dataframe\">\n",
       "  <thead>\n",
       "    <tr style=\"text-align: right;\">\n",
       "      <th></th>\n",
       "      <th>mondoIRI</th>\n",
       "      <th>mondoLabel</th>\n",
       "      <th>parentClass</th>\n",
       "      <th>ncitSource</th>\n",
       "      <th>ncitSource2</th>\n",
       "    </tr>\n",
       "  </thead>\n",
       "  <tbody>\n",
       "    <tr>\n",
       "      <th>0</th>\n",
       "      <td>ID</td>\n",
       "      <td></td>\n",
       "      <td>SC %</td>\n",
       "      <td>&gt;A oboInOwl:source</td>\n",
       "      <td>&gt;A oboInOwl:source</td>\n",
       "    </tr>\n",
       "    <tr>\n",
       "      <th>1</th>\n",
       "      <td>MONDO:0000087</td>\n",
       "      <td>polymicrogyria</td>\n",
       "      <td>MONDO:0002320</td>\n",
       "      <td>MONDO:notVerified</td>\n",
       "      <td>NCIT:C116936</td>\n",
       "    </tr>\n",
       "    <tr>\n",
       "      <th>2</th>\n",
       "      <td>MONDO:0000334</td>\n",
       "      <td>multinodular goiter</td>\n",
       "      <td>MONDO:0006869</td>\n",
       "      <td>MONDO:notVerified</td>\n",
       "      <td>NCIT:C131438</td>\n",
       "    </tr>\n",
       "    <tr>\n",
       "      <th>3</th>\n",
       "      <td>MONDO:0000390</td>\n",
       "      <td>vitelliform macular dystrophy</td>\n",
       "      <td>MONDO:0020242</td>\n",
       "      <td>MONDO:notVerified</td>\n",
       "      <td>NCIT:C118788</td>\n",
       "    </tr>\n",
       "    <tr>\n",
       "      <th>4</th>\n",
       "      <td>MONDO:0000410</td>\n",
       "      <td>funisitis</td>\n",
       "      <td>MONDO:0024575</td>\n",
       "      <td>MONDO:notVerified</td>\n",
       "      <td>NCIT:C97077</td>\n",
       "    </tr>\n",
       "  </tbody>\n",
       "</table>\n",
       "</div>"
      ],
      "text/plain": [
       "        mondoIRI                     mondoLabel    parentClass  \\\n",
       "0             ID                                          SC %   \n",
       "1  MONDO:0000087                 polymicrogyria  MONDO:0002320   \n",
       "2  MONDO:0000334            multinodular goiter  MONDO:0006869   \n",
       "3  MONDO:0000390  vitelliform macular dystrophy  MONDO:0020242   \n",
       "4  MONDO:0000410                      funisitis  MONDO:0024575   \n",
       "\n",
       "           ncitSource         ncitSource2  \n",
       "0  >A oboInOwl:source  >A oboInOwl:source  \n",
       "1   MONDO:notVerified        NCIT:C116936  \n",
       "2   MONDO:notVerified        NCIT:C131438  \n",
       "3   MONDO:notVerified        NCIT:C118788  \n",
       "4   MONDO:notVerified         NCIT:C97077  "
      ]
     },
     "execution_count": 23,
     "metadata": {},
     "output_type": "execute_result"
    }
   ],
   "source": [
    "# In hidsight, let's keep the existing record of the current ncitSource values and rename to ncitSource2 \n",
    "# and remove the '>A oboInOwl:source' and then add another column named ncitSource that does \n",
    "# >A oboInOwl:source and add values MONDO:notVerified for all rows\n",
    "\n",
    "\n",
    "# Rename the column 'ncitSource' to 'ncitSource2'\n",
    "ncit_subclass_provenance_robot_df.rename(columns={'ncitSource': 'ncitSource2'}, inplace=True)\n",
    "\n",
    "# Insert the new column 'ncitSource' with the value 'MONDO:notVerified' after 'parentClass'\n",
    "ncit_subclass_provenance_robot_df.insert(\n",
    "    ncit_subclass_provenance_robot_df.columns.get_loc('parentClass') + 1,\n",
    "    'ncitSource',\n",
    "    'MONDO:notVerified'\n",
    ")\n",
    "\n",
    "# Update the second row header for the new column 'ncitSource'\n",
    "second_header = [\"ID\", \"\", \"SC %\", \">A oboInOwl:source\", \">A oboInOwl:source\"]\n",
    "ncit_subclass_provenance_robot_df.iloc[0] = second_header\n",
    "\n",
    "\n",
    "\n",
    "ncit_subclass_provenance_robot_df.head()"
   ]
  },
  {
   "cell_type": "code",
   "execution_count": 24,
   "id": "c31338e9",
   "metadata": {},
   "outputs": [],
   "source": [
    "# Save to file the information in filtered_rows (contains information on Mondo classes where the\n",
    "# subclassOf provenance would have no values since there is only 1 NCIT source annotation). This file will\n",
    "# be the source file to create a ROBOT template to add back source subclassOf annotations with a value of \n",
    "# MONDO:notVerified to these classes.\n",
    "\n",
    "ncit_subclass_provenance_robot_df.to_csv('ncit_subclass_provenance_robot_df.tsv', sep='\\t', index=False)"
   ]
  },
  {
   "cell_type": "code",
   "execution_count": null,
   "id": "68500962",
   "metadata": {},
   "outputs": [],
   "source": []
  }
 ],
 "metadata": {
  "kernelspec": {
   "display_name": "Python 3 (ipykernel)",
   "language": "python",
   "name": "python3"
  },
  "language_info": {
   "codemirror_mode": {
    "name": "ipython",
    "version": 3
   },
   "file_extension": ".py",
   "mimetype": "text/x-python",
   "name": "python",
   "nbconvert_exporter": "python",
   "pygments_lexer": "ipython3",
   "version": "3.11.7"
  }
 },
 "nbformat": 4,
 "nbformat_minor": 5
}
