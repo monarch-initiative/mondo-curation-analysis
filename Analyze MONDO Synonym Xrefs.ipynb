{
 "cells": [
  {
   "cell_type": "markdown",
   "id": "10aa8af4",
   "metadata": {},
   "source": [
    "## Analyze the MONDO Synonym Xrefs\n",
    "\n",
    "\n",
    "#### Mondo Input File Creation\n",
    "The \"syns.csv\" file was created by using [ROBOT](https://robot.obolibrary.org/) to convert \"mondo-edit.obo\" into OWL and then running the SPARQL query below over the file.\n",
    "- `robot convert -i mondo-edit.obo -o TEST-mondo-edit.owl`\n",
    "\n",
    "- `robot query -i TEST-mondo-edit.owl -q query_synonym_xrefs.sparql syns.csv`\n"
   ]
  },
  {
   "cell_type": "markdown",
   "id": "c1b1de82",
   "metadata": {},
   "source": [
    "#### SPARQL Query \n",
    "\n",
    "```\n",
    "PREFIX owl: <http://www.w3.org/2002/07/owl#>\n",
    "PREFIX oboInOwl: <http://www.geneontology.org/formats/oboInOwl#>\n",
    "PREFIX rdfs: <http://www.w3.org/2000/01/rdf-schema#>\n",
    "\n",
    "SELECT DISTINCT ?identifier ?synonym ?synonym_xref ?synonym_type ?synonym_type_value\n",
    "WHERE {\n",
    "    # Match the main class and get its identifier\n",
    "    ?entity rdfs:label ?label ;\n",
    "            oboInOwl:id ?identifier .\n",
    "\n",
    "    # Match the synonym properties and their values\n",
    "    VALUES ?synonym_property {\n",
    "        oboInOwl:hasRelatedSynonym\n",
    "        oboInOwl:hasExactSynonym\n",
    "        oboInOwl:hasNarrowSynonym\n",
    "        oboInOwl:hasBroadSynonym\n",
    "    }\n",
    "    ?entity ?synonym_property ?synonym .\n",
    "\n",
    "    # Match the annotations for the synonyms\n",
    "    OPTIONAL {\n",
    "        ?anno a owl:Axiom ;\n",
    "              owl:annotatedSource ?entity ;\n",
    "              owl:annotatedProperty ?synonym_property ;\n",
    "              owl:annotatedTarget ?synonym ;\n",
    "              oboInOwl:hasDbXref ?synonym_xref .\n",
    "        OPTIONAL {\n",
    "            ?anno oboInOwl:hasSynonymType ?synonym_type_value .\n",
    "        }\n",
    "    }\n",
    "\n",
    "    # Ensure the entity is the specific MONDO class\n",
    "    FILTER(STRSTARTS(STR(?entity), \"http://purl.obolibrary.org/obo/MONDO_\"))\n",
    "\n",
    "    # Bind the synonym type based on the property\n",
    "    BIND(\n",
    "        IF(?synonym_property = oboInOwl:hasExactSynonym, \"exact\",\n",
    "            IF(?synonym_property = oboInOwl:hasRelatedSynonym, \"related\",\n",
    "                IF(?synonym_property = oboInOwl:hasNarrowSynonym, \"narrow\",\n",
    "                    IF(?synonym_property = oboInOwl:hasBroadSynonym, \"broad\", \"unknown\")\n",
    "                )\n",
    "            )\n",
    "        ) AS ?synonym_type\n",
    "    )\n",
    "}\n",
    "ORDER BY ?identifier\n",
    "```"
   ]
  },
  {
   "cell_type": "code",
   "execution_count": 6,
   "id": "b44f08f9",
   "metadata": {},
   "outputs": [],
   "source": [
    "# imports \n",
    "import pandas as pd\n",
    "import numpy as np"
   ]
  },
  {
   "cell_type": "code",
   "execution_count": 7,
   "id": "d91076e2",
   "metadata": {},
   "outputs": [
    {
     "data": {
      "text/html": [
       "<div>\n",
       "<style scoped>\n",
       "    .dataframe tbody tr th:only-of-type {\n",
       "        vertical-align: middle;\n",
       "    }\n",
       "\n",
       "    .dataframe tbody tr th {\n",
       "        vertical-align: top;\n",
       "    }\n",
       "\n",
       "    .dataframe thead th {\n",
       "        text-align: right;\n",
       "    }\n",
       "</style>\n",
       "<table border=\"1\" class=\"dataframe\">\n",
       "  <thead>\n",
       "    <tr style=\"text-align: right;\">\n",
       "      <th></th>\n",
       "      <th>identifier</th>\n",
       "      <th>synonym</th>\n",
       "      <th>synonym_xref</th>\n",
       "      <th>synonym_type</th>\n",
       "      <th>synonym_type_value</th>\n",
       "    </tr>\n",
       "  </thead>\n",
       "  <tbody>\n",
       "    <tr>\n",
       "      <th>0</th>\n",
       "      <td>MONDO:0000001</td>\n",
       "      <td>condition</td>\n",
       "      <td>NCIT:C2991</td>\n",
       "      <td>exact</td>\n",
       "      <td>NaN</td>\n",
       "    </tr>\n",
       "    <tr>\n",
       "      <th>1</th>\n",
       "      <td>MONDO:0000001</td>\n",
       "      <td>disease</td>\n",
       "      <td>NCIT:C2991</td>\n",
       "      <td>exact</td>\n",
       "      <td>NaN</td>\n",
       "    </tr>\n",
       "    <tr>\n",
       "      <th>2</th>\n",
       "      <td>MONDO:0000001</td>\n",
       "      <td>disease or disorder</td>\n",
       "      <td>NCIT:C2991</td>\n",
       "      <td>exact</td>\n",
       "      <td>NaN</td>\n",
       "    </tr>\n",
       "    <tr>\n",
       "      <th>3</th>\n",
       "      <td>MONDO:0000001</td>\n",
       "      <td>disease or disorder, non-neoplastic</td>\n",
       "      <td>NCIT:C2991</td>\n",
       "      <td>exact</td>\n",
       "      <td>NaN</td>\n",
       "    </tr>\n",
       "    <tr>\n",
       "      <th>4</th>\n",
       "      <td>MONDO:0000001</td>\n",
       "      <td>diseases</td>\n",
       "      <td>NCIT:C2991</td>\n",
       "      <td>exact</td>\n",
       "      <td>NaN</td>\n",
       "    </tr>\n",
       "  </tbody>\n",
       "</table>\n",
       "</div>"
      ],
      "text/plain": [
       "      identifier                              synonym synonym_xref  \\\n",
       "0  MONDO:0000001                            condition   NCIT:C2991   \n",
       "1  MONDO:0000001                              disease   NCIT:C2991   \n",
       "2  MONDO:0000001                  disease or disorder   NCIT:C2991   \n",
       "3  MONDO:0000001  disease or disorder, non-neoplastic   NCIT:C2991   \n",
       "4  MONDO:0000001                             diseases   NCIT:C2991   \n",
       "\n",
       "  synonym_type synonym_type_value  \n",
       "0        exact                NaN  \n",
       "1        exact                NaN  \n",
       "2        exact                NaN  \n",
       "3        exact                NaN  \n",
       "4        exact                NaN  "
      ]
     },
     "execution_count": 7,
     "metadata": {},
     "output_type": "execute_result"
    }
   ],
   "source": [
    "# read in file\n",
    "df = pd.read_csv('syns.csv')\n",
    "df.head()"
   ]
  },
  {
   "cell_type": "code",
   "execution_count": 8,
   "id": "02dd1773",
   "metadata": {},
   "outputs": [
    {
     "data": {
      "text/plain": [
       "array(['NCIT', nan, 'DOID', 'GARD', 'OMIMPS', 'https', 'Orphanet', 'PMID',\n",
       "       'MONDO', 'OMIM', 'Wikipedia', 'MESH', 'MONDORULE', 'NORD', 'UMLS',\n",
       "       'ONCOTREE', 'ICD9CM', 'EFO', 'doi', 'http', 'ICD10CM', 'OMOP',\n",
       "       'SCTID', 'MTH', 'ISBN-13', 'GTR', 'HP', 'OGMS', 'MedDRA',\n",
       "       'DECIPHER', 'ClinGen', 'MEDGEN', 'ICD9', 'MedGen', 'ICD11', 'SCDO',\n",
       "       'OMIA'], dtype=object)"
      ]
     },
     "execution_count": 8,
     "metadata": {},
     "output_type": "execute_result"
    }
   ],
   "source": [
    "# Get the unqique synonym xrefs\n",
    "df['prefix'] = df['synonym_xref'].str.split(':').str[0]\n",
    "\n",
    "# Get unique list of prefixes\n",
    "unique_prefixes = df['prefix'].unique()\n",
    "unique_prefixes"
   ]
  },
  {
   "cell_type": "code",
   "execution_count": 10,
   "id": "5c704e45",
   "metadata": {},
   "outputs": [
    {
     "data": {
      "text/plain": [
       "7259"
      ]
     },
     "execution_count": 10,
     "metadata": {},
     "output_type": "execute_result"
    }
   ],
   "source": [
    "# Get all prefix identifiers that are not \"numeric\", e.g. OMIM:genemap2, OMIA:001441-9615\n",
    "\n",
    "# Extract values after the colon\n",
    "df['value'] = df['synonym_xref'].str.split(':').str[1]\n",
    "\n",
    "# Convert all values to strings\n",
    "df['value'] = df['value'].astype(str)\n",
    "\n",
    "# Filter non-numeric values (including mixed values)\n",
    "non_numeric_values = df['value'][~df['value'].apply(lambda x: x.replace('.', '', 1).isdigit())]\n",
    "\n",
    "# Find unique non-numeric values\n",
    "unique_non_numeric_values = non_numeric_values.unique()\n",
    "\n",
    "# Display unique non-numeric values\n",
    "len(unique_non_numeric_values)"
   ]
  },
  {
   "cell_type": "code",
   "execution_count": 11,
   "id": "02c85013",
   "metadata": {},
   "outputs": [],
   "source": [
    "# Save these values to a file\n",
    "output_file = 'unique_non_numeric_values.txt'\n",
    "\n",
    "# Write each unique non-numeric value to the file, one per line\n",
    "with open(output_file, 'w') as file:\n",
    "    for value in unique_non_numeric_values:\n",
    "        file.write(f\"{value}\\n\")"
   ]
  },
  {
   "cell_type": "markdown",
   "id": "e14377e0",
   "metadata": {},
   "source": [
    "---"
   ]
  },
  {
   "cell_type": "markdown",
   "id": "1d2f72a6",
   "metadata": {},
   "source": [
    "### Re-Scope Analysis Issue\n",
    "\n",
    "Due to the large number of values to evaluate, limit the scope of this analysis to known ontology prefixes."
   ]
  },
  {
   "cell_type": "code",
   "execution_count": 14,
   "id": "5640a41e",
   "metadata": {},
   "outputs": [
    {
     "data": {
      "text/html": [
       "<div>\n",
       "<style scoped>\n",
       "    .dataframe tbody tr th:only-of-type {\n",
       "        vertical-align: middle;\n",
       "    }\n",
       "\n",
       "    .dataframe tbody tr th {\n",
       "        vertical-align: top;\n",
       "    }\n",
       "\n",
       "    .dataframe thead th {\n",
       "        text-align: right;\n",
       "    }\n",
       "</style>\n",
       "<table border=\"1\" class=\"dataframe\">\n",
       "  <thead>\n",
       "    <tr style=\"text-align: right;\">\n",
       "      <th></th>\n",
       "      <th>identifier</th>\n",
       "      <th>synonym</th>\n",
       "      <th>synonym_xref</th>\n",
       "      <th>synonym_type</th>\n",
       "      <th>synonym_type_value</th>\n",
       "      <th>value</th>\n",
       "    </tr>\n",
       "  </thead>\n",
       "  <tbody>\n",
       "    <tr>\n",
       "      <th>0</th>\n",
       "      <td>MONDO:0000001</td>\n",
       "      <td>condition</td>\n",
       "      <td>NCIT:C2991</td>\n",
       "      <td>exact</td>\n",
       "      <td>NaN</td>\n",
       "      <td>C2991</td>\n",
       "    </tr>\n",
       "    <tr>\n",
       "      <th>1</th>\n",
       "      <td>MONDO:0000001</td>\n",
       "      <td>disease</td>\n",
       "      <td>NCIT:C2991</td>\n",
       "      <td>exact</td>\n",
       "      <td>NaN</td>\n",
       "      <td>C2991</td>\n",
       "    </tr>\n",
       "    <tr>\n",
       "      <th>2</th>\n",
       "      <td>MONDO:0000001</td>\n",
       "      <td>disease or disorder</td>\n",
       "      <td>NCIT:C2991</td>\n",
       "      <td>exact</td>\n",
       "      <td>NaN</td>\n",
       "      <td>C2991</td>\n",
       "    </tr>\n",
       "    <tr>\n",
       "      <th>3</th>\n",
       "      <td>MONDO:0000001</td>\n",
       "      <td>disease or disorder, non-neoplastic</td>\n",
       "      <td>NCIT:C2991</td>\n",
       "      <td>exact</td>\n",
       "      <td>NaN</td>\n",
       "      <td>C2991</td>\n",
       "    </tr>\n",
       "    <tr>\n",
       "      <th>4</th>\n",
       "      <td>MONDO:0000001</td>\n",
       "      <td>diseases</td>\n",
       "      <td>NCIT:C2991</td>\n",
       "      <td>exact</td>\n",
       "      <td>NaN</td>\n",
       "      <td>C2991</td>\n",
       "    </tr>\n",
       "  </tbody>\n",
       "</table>\n",
       "</div>"
      ],
      "text/plain": [
       "      identifier                              synonym synonym_xref  \\\n",
       "0  MONDO:0000001                            condition   NCIT:C2991   \n",
       "1  MONDO:0000001                              disease   NCIT:C2991   \n",
       "2  MONDO:0000001                  disease or disorder   NCIT:C2991   \n",
       "3  MONDO:0000001  disease or disorder, non-neoplastic   NCIT:C2991   \n",
       "4  MONDO:0000001                             diseases   NCIT:C2991   \n",
       "\n",
       "  synonym_type synonym_type_value  value  \n",
       "0        exact                NaN  C2991  \n",
       "1        exact                NaN  C2991  \n",
       "2        exact                NaN  C2991  \n",
       "3        exact                NaN  C2991  \n",
       "4        exact                NaN  C2991  "
      ]
     },
     "execution_count": 14,
     "metadata": {},
     "output_type": "execute_result"
    }
   ],
   "source": [
    "# Only include prefix values from certain sources, e.g. 'OMIM', 'OMIMPS', 'Orphanet', 'DOID', 'NCIT', 'MESH', \n",
    "# 'UMLS', 'ICD9CM', 'EFO', 'ICD10CM', 'OMOP', 'SCTID', 'ClinGen', 'MEDGEN', 'ICD9', 'MedGen', 'ICD11', 'OMIA'\n",
    "\n",
    "# List of prefixes to filter\n",
    "prefixes = [\n",
    "    'OMIM', 'OMIMPS', 'Orphanet', 'DOID', 'NCIT', 'MESH', 'UMLS', \n",
    "    'ICD9CM', 'EFO', 'ICD10CM', 'OMOP', 'SCTID', 'ClinGen', 'MEDGEN', \n",
    "    'ICD9', 'MedGen', 'ICD11', 'OMIA'\n",
    "]\n",
    "\n",
    "# Extract the prefix from the 'Column' and store it in a new column 'Prefix'\n",
    "df['prefix'] = df['synonym_xref'].str.split(':').str[0]\n",
    "\n",
    "# Filter the DataFrame to only include rows where the 'Prefix' is in the list of prefixes\n",
    "filtered_df = df[df['prefix'].isin(prefixes)].copy()\n",
    "\n",
    "# Drop the 'Prefix' column if you no longer need it\n",
    "filtered_df.drop(columns='prefix', inplace=True)\n",
    "\n",
    "# Display the filtered DataFrame\n",
    "filtered_df.head()\n"
   ]
  },
  {
   "cell_type": "code",
   "execution_count": 19,
   "id": "73af2587",
   "metadata": {},
   "outputs": [
    {
     "name": "stdout",
     "output_type": "stream",
     "text": [
      "6459\n"
     ]
    }
   ],
   "source": [
    "# Now get a unique list of non-numeric values for synonym_xref from filtered_df\n",
    "\n",
    "# Extract values after the colon\n",
    "filtered_df['value'] = filtered_df['synonym_xref'].str.split(':').str[1]\n",
    "\n",
    "# Convert all values to strings\n",
    "filtered_df['value'] = filtered_df['value'].astype(str)\n",
    "\n",
    "# Filter non-numeric values (including mixed values)\n",
    "non_numeric_values = filtered_df['value'][~filtered_df['value'].apply(lambda x: x.replace('.', '', 1).isdigit())]\n",
    "\n",
    "# Find unique non-numeric values\n",
    "unique_non_numeric_values = non_numeric_values.unique()\n",
    "\n",
    "# Display unique non-numeric values\n",
    "print(len(unique_non_numeric_values))"
   ]
  },
  {
   "cell_type": "code",
   "execution_count": 20,
   "id": "254a9963",
   "metadata": {},
   "outputs": [],
   "source": [
    "# Filter out any value that starts with 'C' or 'D', these are from MESH \n",
    "\n",
    "filtered_values = [value for value in unique_non_numeric_values if not (value.startswith('C') or value.startswith('D'))]\n"
   ]
  },
  {
   "cell_type": "code",
   "execution_count": 21,
   "id": "bcd54b58",
   "metadata": {},
   "outputs": [],
   "source": [
    "# Save these values to a file\n",
    "output_file = 'unique_non_numeric_values-SELECT-PREFIXES-ONLY.txt'\n",
    "\n",
    "# Write each unique non-numeric value to the file, one per line\n",
    "with open(output_file, 'w') as file:\n",
    "    for value in filtered_values:\n",
    "        file.write(f\"{value}\\n\")"
   ]
  }
 ],
 "metadata": {
  "kernelspec": {
   "display_name": "Python 3 (ipykernel)",
   "language": "python",
   "name": "python3"
  },
  "language_info": {
   "codemirror_mode": {
    "name": "ipython",
    "version": 3
   },
   "file_extension": ".py",
   "mimetype": "text/x-python",
   "name": "python",
   "nbconvert_exporter": "python",
   "pygments_lexer": "ipython3",
   "version": "3.11.7"
  }
 },
 "nbformat": 4,
 "nbformat_minor": 5
}
